{
 "cells": [
  {
   "cell_type": "code",
   "execution_count": 1,
   "id": "988e82cf",
   "metadata": {},
   "outputs": [],
   "source": [
    "import numpy as np\n",
    "import pandas as pd"
   ]
  },
  {
   "cell_type": "markdown",
   "id": "f575c5eb",
   "metadata": {},
   "source": [
    "**Question 1**\n",
    "- **What's the version of NumPy that you installed?**"
   ]
  },
  {
   "cell_type": "code",
   "execution_count": 2,
   "id": "9e8f8433",
   "metadata": {},
   "outputs": [
    {
     "data": {
      "text/plain": [
       "'1.23.0'"
      ]
     },
     "execution_count": 2,
     "metadata": {},
     "output_type": "execute_result"
    }
   ],
   "source": [
    "np.__version__"
   ]
  },
  {
   "cell_type": "markdown",
   "id": "df63a00c",
   "metadata": {},
   "source": [
    "**Answer:**\n",
    "\n",
    "- **The version of numpy installed is 1.23.0**"
   ]
  },
  {
   "cell_type": "code",
   "execution_count": 3,
   "id": "6f092865",
   "metadata": {},
   "outputs": [],
   "source": [
    "def get_data_from_url(url):\n",
    "    data_format_from_url = url.split('.')[-1]\n",
    "    if data_format_from_url == 'csv':\n",
    "        df = pd.read_csv(url)\n",
    "    elif data_format_from_url in ['xls','xlsx']:\n",
    "        df = pd.read_excel(url)\n",
    "    elif data_format_from_url == 'json':\n",
    "        df = pd.read_json(url)\n",
    "    else:\n",
    "        print('Data file not supported')\n",
    "    return df"
   ]
  },
  {
   "cell_type": "code",
   "execution_count": 4,
   "id": "3c402020",
   "metadata": {},
   "outputs": [],
   "source": [
    "url = 'https://raw.githubusercontent.com/alexeygrigorev/mlbookcamp-code/master/chapter-02-car-price/data.csv'\n",
    "#url = 'MLzoomcamp_homewwork1_data.csv'"
   ]
  },
  {
   "cell_type": "code",
   "execution_count": 5,
   "id": "a80df0c5",
   "metadata": {},
   "outputs": [],
   "source": [
    "car_price_df = get_data_from_url(url)"
   ]
  },
  {
   "cell_type": "markdown",
   "id": "13c135bc",
   "metadata": {},
   "source": [
    "**Question 2**\n",
    "- **How many records are in the dataset?**"
   ]
  },
  {
   "cell_type": "code",
   "execution_count": 6,
   "id": "3a93a695",
   "metadata": {},
   "outputs": [
    {
     "data": {
      "text/plain": [
       "11914"
      ]
     },
     "execution_count": 6,
     "metadata": {},
     "output_type": "execute_result"
    }
   ],
   "source": [
    "car_price_df.shape[0]"
   ]
  },
  {
   "cell_type": "markdown",
   "id": "89f08d80",
   "metadata": {},
   "source": [
    "**Answer:**\n",
    "\n",
    "- **There are 11914 records in the data set**"
   ]
  },
  {
   "cell_type": "markdown",
   "id": "4df7ccc0",
   "metadata": {},
   "source": [
    "**Question 3**\n",
    "\n",
    "- **Who are the most frequent car manufacturers (top-3) according to the dataset?**"
   ]
  },
  {
   "cell_type": "code",
   "execution_count": 7,
   "id": "7855e5f5",
   "metadata": {},
   "outputs": [
    {
     "data": {
      "text/plain": [
       "Chevrolet     1123\n",
       "Ford           881\n",
       "Volkswagen     809\n",
       "Name: Make, dtype: int64"
      ]
     },
     "execution_count": 7,
     "metadata": {},
     "output_type": "execute_result"
    }
   ],
   "source": [
    "car_price_df['Make'].value_counts().sort_values(ascending = False )[0:3]"
   ]
  },
  {
   "cell_type": "markdown",
   "id": "d1f8985c",
   "metadata": {},
   "source": [
    "**Answer:**\n",
    "\n",
    "- **Chevrolet, Ford, Volkswagen are the top three most frequent car manufacturers**"
   ]
  },
  {
   "cell_type": "markdown",
   "id": "533006c9",
   "metadata": {},
   "source": [
    "**Question 4**\n",
    "- **What's the number of unique Audi car models in the dataset?**"
   ]
  },
  {
   "cell_type": "code",
   "execution_count": 8,
   "id": "7ea91e8e",
   "metadata": {},
   "outputs": [
    {
     "data": {
      "text/plain": [
       "34"
      ]
     },
     "execution_count": 8,
     "metadata": {},
     "output_type": "execute_result"
    }
   ],
   "source": [
    "car_price_df[car_price_df['Make']=='Audi']['Model'].nunique()"
   ]
  },
  {
   "cell_type": "markdown",
   "id": "194b3306",
   "metadata": {},
   "source": [
    "**Answer:**\n",
    "\n",
    "- **There are 34 unique Audi car models in the dataset**"
   ]
  },
  {
   "cell_type": "markdown",
   "id": "7b2fcadb",
   "metadata": {},
   "source": [
    "**Question 5**\n",
    "\n",
    "- **How many columns in the dataset have missing values?**"
   ]
  },
  {
   "cell_type": "code",
   "execution_count": 9,
   "id": "2ab55cc4",
   "metadata": {},
   "outputs": [
    {
     "data": {
      "text/plain": [
       "5"
      ]
     },
     "execution_count": 9,
     "metadata": {},
     "output_type": "execute_result"
    }
   ],
   "source": [
    "car_price_df.isnull().any().sum()"
   ]
  },
  {
   "cell_type": "markdown",
   "id": "70093543",
   "metadata": {},
   "source": [
    "\n",
    "**Answer:**\n",
    "\n",
    "- **There 5 columns in the dataset having missing values**"
   ]
  },
  {
   "cell_type": "markdown",
   "id": "3fb454f8",
   "metadata": {},
   "source": [
    "**Question 6**\n",
    "\n",
    "- **Find the median value of \"Engine Cylinders\" column in the dataset.**\n",
    "- **Next, calculate the most frequent value of the same \"Engine Cylinders\".**\n",
    "- **Use the fillna method to fill the missing values in \"Engine Cylinders\" with the most frequent value from the previous step.**\n",
    "- **Now, calculate the median value of \"Engine Cylinders\" once again**\n"
   ]
  },
  {
   "cell_type": "code",
   "execution_count": 10,
   "id": "752e0951",
   "metadata": {},
   "outputs": [
    {
     "data": {
      "text/plain": [
       "6.0"
      ]
     },
     "execution_count": 10,
     "metadata": {},
     "output_type": "execute_result"
    }
   ],
   "source": [
    "car_price_df['Engine Cylinders'].median()"
   ]
  },
  {
   "cell_type": "code",
   "execution_count": 11,
   "id": "84d01742",
   "metadata": {},
   "outputs": [
    {
     "data": {
      "text/plain": [
       "0    4.0\n",
       "Name: Engine Cylinders, dtype: float64"
      ]
     },
     "execution_count": 11,
     "metadata": {},
     "output_type": "execute_result"
    }
   ],
   "source": [
    "car_price_df['Engine Cylinders'].mode()"
   ]
  },
  {
   "cell_type": "code",
   "execution_count": 12,
   "id": "b0bd0b00",
   "metadata": {},
   "outputs": [
    {
     "data": {
      "text/plain": [
       "4.0"
      ]
     },
     "execution_count": 12,
     "metadata": {},
     "output_type": "execute_result"
    }
   ],
   "source": [
    "#Alternatively to find the most frequent value of the 'Engine Cylinders' columns\n",
    "car_price_df['Engine Cylinders'].value_counts().idxmax()"
   ]
  },
  {
   "cell_type": "code",
   "execution_count": 13,
   "id": "b9a47515",
   "metadata": {},
   "outputs": [],
   "source": [
    "car_price_df['Engine Cylinders'].fillna(4.0, inplace = True)"
   ]
  },
  {
   "cell_type": "code",
   "execution_count": 14,
   "id": "1f28c8fa",
   "metadata": {},
   "outputs": [
    {
     "data": {
      "text/plain": [
       "6.0"
      ]
     },
     "execution_count": 14,
     "metadata": {},
     "output_type": "execute_result"
    }
   ],
   "source": [
    "car_price_df['Engine Cylinders'].median()"
   ]
  },
  {
   "cell_type": "markdown",
   "id": "11d8c813",
   "metadata": {},
   "source": [
    "**Answer:**\n",
    "- **No, the median value has not changed**"
   ]
  },
  {
   "cell_type": "markdown",
   "id": "773ef77a",
   "metadata": {},
   "source": [
    "**Question 7**\n",
    "- **Select all the \"Lotus\" cars from the dataset.**\n",
    "- **Select only columns \"Engine HP\", \"Engine Cylinders\".**\n",
    "- **Now drop all duplicated rows using drop_duplicates method (you should get a dataframe with 9 rows).**\n",
    "- **Get the underlying NumPy array. Let's call it X.**\n",
    "- **Compute matrix-matrix multiplication between the transpose of X and X. To get the transpose, use X.T. Let's call the result XTX**\n"
   ]
  },
  {
   "cell_type": "code",
   "execution_count": 15,
   "id": "33b45d02",
   "metadata": {},
   "outputs": [],
   "source": [
    "Lotus_cars_df = car_price_df[car_price_df['Make']=='Lotus']"
   ]
  },
  {
   "cell_type": "code",
   "execution_count": 16,
   "id": "e1e78ce0",
   "metadata": {},
   "outputs": [],
   "source": [
    "Lotus_cars_hp_cyln_df = Lotus_cars_df[['Engine HP','Engine Cylinders']]"
   ]
  },
  {
   "cell_type": "code",
   "execution_count": 17,
   "id": "bb76d2ff",
   "metadata": {},
   "outputs": [],
   "source": [
    "Lotus_cars_hp_cyln_without_duplicates = Lotus_cars_hp_cyln_df.drop_duplicates()"
   ]
  },
  {
   "cell_type": "code",
   "execution_count": 18,
   "id": "965f56aa",
   "metadata": {},
   "outputs": [
    {
     "data": {
      "text/plain": [
       "9"
      ]
     },
     "execution_count": 18,
     "metadata": {},
     "output_type": "execute_result"
    }
   ],
   "source": [
    "Lotus_cars_hp_cyln_without_duplicates.shape[0]"
   ]
  },
  {
   "cell_type": "code",
   "execution_count": 19,
   "id": "6682cbe3",
   "metadata": {},
   "outputs": [],
   "source": [
    "x = np.array([Lotus_cars_hp_cyln_without_duplicates['Engine HP'].values,Lotus_cars_hp_cyln_without_duplicates['Engine Cylinders'].values])"
   ]
  },
  {
   "cell_type": "code",
   "execution_count": 20,
   "id": "4183e082",
   "metadata": {},
   "outputs": [
    {
     "data": {
      "text/plain": [
       "array([[189., 218., 217., 350., 400., 276., 345., 257., 240.],\n",
       "       [  4.,   4.,   4.,   8.,   6.,   6.,   6.,   4.,   4.]])"
      ]
     },
     "execution_count": 20,
     "metadata": {},
     "output_type": "execute_result"
    }
   ],
   "source": [
    "x"
   ]
  },
  {
   "cell_type": "code",
   "execution_count": 21,
   "id": "4d2289b9",
   "metadata": {},
   "outputs": [],
   "source": [
    "x_tranpose = x.T"
   ]
  },
  {
   "cell_type": "code",
   "execution_count": 24,
   "id": "d17850a5",
   "metadata": {},
   "outputs": [
    {
     "data": {
      "text/plain": [
       "array([[189.,   4.],\n",
       "       [218.,   4.],\n",
       "       [217.,   4.],\n",
       "       [350.,   8.],\n",
       "       [400.,   6.],\n",
       "       [276.,   6.],\n",
       "       [345.,   6.],\n",
       "       [257.,   4.],\n",
       "       [240.,   4.]])"
      ]
     },
     "execution_count": 24,
     "metadata": {},
     "output_type": "execute_result"
    }
   ],
   "source": [
    "x_tranpose"
   ]
  },
  {
   "cell_type": "code",
   "execution_count": 25,
   "id": "5b915669",
   "metadata": {},
   "outputs": [],
   "source": [
    "def vector_vector_multiplication(u, v):\n",
    "    assert u.shape[1] == v.shape[0]\n",
    "    \n",
    "    n = u.shape[0]\n",
    "    \n",
    "    result = 0.0\n",
    "    \n",
    "    for i in range(n):\n",
    "        result = result + u[i] *v[i]\n",
    "    \n",
    "    return result"
   ]
  },
  {
   "cell_type": "code",
   "execution_count": 26,
   "id": "afd89302",
   "metadata": {},
   "outputs": [],
   "source": [
    "def matrix_vector_multiplication(U, v):\n",
    "    assert U.shape[1] == v.shape[0]\n",
    "    \n",
    "    num_rows = U.shape[0]\n",
    "    \n",
    "    result = np.zeros(num_rows)\n",
    "    \n",
    "    for i in range(num_rows):\n",
    "        result[i] = vector_vector_multiplication(U[i], v)\n",
    "    \n",
    "    return result"
   ]
  },
  {
   "cell_type": "code",
   "execution_count": 27,
   "id": "3cbe9281",
   "metadata": {},
   "outputs": [],
   "source": [
    "def matrix_matrix_multiplication(U, V):\n",
    "    assert U.shape[1] == V.shape[0]\n",
    "    \n",
    "    num_rows = U.shape[0]\n",
    "    num_cols = V.shape[1]\n",
    "    \n",
    "    result = np.zeros((num_rows, num_cols))\n",
    "    \n",
    "    for i in range(num_cols):\n",
    "        vi = V[:, i]\n",
    "        Uvi = matrix_vector_multiplication(U, vi)\n",
    "        result[:, i] = Uvi\n",
    "    \n",
    "    return result"
   ]
  },
  {
   "cell_type": "code",
   "execution_count": 28,
   "id": "69dc55dc",
   "metadata": {},
   "outputs": [
    {
     "data": {
      "text/plain": [
       "(9, 2)"
      ]
     },
     "execution_count": 28,
     "metadata": {},
     "output_type": "execute_result"
    }
   ],
   "source": [
    "x_tranpose.shape"
   ]
  },
  {
   "cell_type": "code",
   "execution_count": 29,
   "id": "52c60466",
   "metadata": {},
   "outputs": [
    {
     "data": {
      "text/plain": [
       "(2, 9)"
      ]
     },
     "execution_count": 29,
     "metadata": {},
     "output_type": "execute_result"
    }
   ],
   "source": [
    "x.shape"
   ]
  },
  {
   "cell_type": "code",
   "execution_count": 30,
   "id": "efd1ca73",
   "metadata": {},
   "outputs": [],
   "source": [
    "XTX = np.dot(x_tranpose,x)"
   ]
  },
  {
   "cell_type": "code",
   "execution_count": 31,
   "id": "31989585",
   "metadata": {},
   "outputs": [],
   "source": [
    "def invert_matrix_using_gaussian_elimination(U):\n",
    "    import numpy as np\n",
    "    n = U.shape[0]\n",
    "    I = np.identity(n)\n",
    "    aug_matrix = np.concatenate((U, I), axis = 1)\n",
    "    for i in range(0,n):\n",
    "        pivot = aug_matrix[i][i]\n",
    "        row = aug_matrix[i]\n",
    "        aug_matrix[i]=row/pivot\n",
    "        for j in [k for k in range(0,n) if k != i]:\n",
    "            aug_matrix[j] = aug_matrix[j] - aug_matrix[i] * aug_matrix[j][i]\n",
    "        inverse_xtx = aug_matrix[:,n:]\n",
    "        return inverse_xtx\n",
    "    \n",
    "    "
   ]
  },
  {
   "cell_type": "code",
   "execution_count": 32,
   "id": "470a1d3f",
   "metadata": {
    "scrolled": true
   },
   "outputs": [
    {
     "ename": "LinAlgError",
     "evalue": "Singular matrix",
     "output_type": "error",
     "traceback": [
      "\u001b[1;31m---------------------------------------------------------------------------\u001b[0m",
      "\u001b[1;31mLinAlgError\u001b[0m                               Traceback (most recent call last)",
      "Input \u001b[1;32mIn [32]\u001b[0m, in \u001b[0;36m<cell line: 1>\u001b[1;34m()\u001b[0m\n\u001b[1;32m----> 1\u001b[0m XTX_inverse \u001b[38;5;241m=\u001b[39m \u001b[43mnp\u001b[49m\u001b[38;5;241;43m.\u001b[39;49m\u001b[43mlinalg\u001b[49m\u001b[38;5;241;43m.\u001b[39;49m\u001b[43minv\u001b[49m\u001b[43m(\u001b[49m\u001b[43mXTX\u001b[49m\u001b[43m)\u001b[49m\n",
      "File \u001b[1;32m<__array_function__ internals>:180\u001b[0m, in \u001b[0;36minv\u001b[1;34m(*args, **kwargs)\u001b[0m\n",
      "File \u001b[1;32m~\\anaconda3\\lib\\site-packages\\numpy\\linalg\\linalg.py:552\u001b[0m, in \u001b[0;36minv\u001b[1;34m(a)\u001b[0m\n\u001b[0;32m    550\u001b[0m signature \u001b[38;5;241m=\u001b[39m \u001b[38;5;124m'\u001b[39m\u001b[38;5;124mD->D\u001b[39m\u001b[38;5;124m'\u001b[39m \u001b[38;5;28;01mif\u001b[39;00m isComplexType(t) \u001b[38;5;28;01melse\u001b[39;00m \u001b[38;5;124m'\u001b[39m\u001b[38;5;124md->d\u001b[39m\u001b[38;5;124m'\u001b[39m\n\u001b[0;32m    551\u001b[0m extobj \u001b[38;5;241m=\u001b[39m get_linalg_error_extobj(_raise_linalgerror_singular)\n\u001b[1;32m--> 552\u001b[0m ainv \u001b[38;5;241m=\u001b[39m \u001b[43m_umath_linalg\u001b[49m\u001b[38;5;241;43m.\u001b[39;49m\u001b[43minv\u001b[49m\u001b[43m(\u001b[49m\u001b[43ma\u001b[49m\u001b[43m,\u001b[49m\u001b[43m \u001b[49m\u001b[43msignature\u001b[49m\u001b[38;5;241;43m=\u001b[39;49m\u001b[43msignature\u001b[49m\u001b[43m,\u001b[49m\u001b[43m \u001b[49m\u001b[43mextobj\u001b[49m\u001b[38;5;241;43m=\u001b[39;49m\u001b[43mextobj\u001b[49m\u001b[43m)\u001b[49m\n\u001b[0;32m    553\u001b[0m \u001b[38;5;28;01mreturn\u001b[39;00m wrap(ainv\u001b[38;5;241m.\u001b[39mastype(result_t, copy\u001b[38;5;241m=\u001b[39m\u001b[38;5;28;01mFalse\u001b[39;00m))\n",
      "File \u001b[1;32m~\\anaconda3\\lib\\site-packages\\numpy\\linalg\\linalg.py:89\u001b[0m, in \u001b[0;36m_raise_linalgerror_singular\u001b[1;34m(err, flag)\u001b[0m\n\u001b[0;32m     88\u001b[0m \u001b[38;5;28;01mdef\u001b[39;00m \u001b[38;5;21m_raise_linalgerror_singular\u001b[39m(err, flag):\n\u001b[1;32m---> 89\u001b[0m     \u001b[38;5;28;01mraise\u001b[39;00m LinAlgError(\u001b[38;5;124m\"\u001b[39m\u001b[38;5;124mSingular matrix\u001b[39m\u001b[38;5;124m\"\u001b[39m)\n",
      "\u001b[1;31mLinAlgError\u001b[0m: Singular matrix"
     ]
    }
   ],
   "source": [
    "XTX_inverse = np.linalg.inv(XTX)"
   ]
  },
  {
   "cell_type": "code",
   "execution_count": null,
   "id": "61f679c6",
   "metadata": {},
   "outputs": [],
   "source": []
  }
 ],
 "metadata": {
  "kernelspec": {
   "display_name": "Python 3 (ipykernel)",
   "language": "python",
   "name": "python3"
  },
  "language_info": {
   "codemirror_mode": {
    "name": "ipython",
    "version": 3
   },
   "file_extension": ".py",
   "mimetype": "text/x-python",
   "name": "python",
   "nbconvert_exporter": "python",
   "pygments_lexer": "ipython3",
   "version": "3.9.12"
  }
 },
 "nbformat": 4,
 "nbformat_minor": 5
}
